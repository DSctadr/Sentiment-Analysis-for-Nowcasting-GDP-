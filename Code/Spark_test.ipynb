{
 "cells": [
  {
   "cell_type": "markdown",
   "id": "e86b842e",
   "metadata": {},
   "source": [
    "# Accuracy Test using Logistic Regression"
   ]
  },
  {
   "cell_type": "markdown",
   "id": "64bb97a1",
   "metadata": {},
   "source": [
    "## 1. Install findspark library"
   ]
  },
  {
   "cell_type": "code",
   "execution_count": 1,
   "id": "d3cd0a57",
   "metadata": {},
   "outputs": [
    {
     "name": "stdout",
     "output_type": "stream",
     "text": [
      "Collecting findspark\n",
      "  Downloading findspark-2.0.1-py2.py3-none-any.whl (4.4 kB)\n",
      "Installing collected packages: findspark\n",
      "Successfully installed findspark-2.0.1\n",
      "Note: you may need to restart the kernel to use updated packages.\n"
     ]
    }
   ],
   "source": [
    "pip install findspark"
   ]
  },
  {
   "cell_type": "markdown",
   "id": "80d550c3",
   "metadata": {},
   "source": [
    "## 2. Import pyspark along with sql context and findspark"
   ]
  },
  {
   "cell_type": "code",
   "execution_count": 13,
   "id": "9fae3246",
   "metadata": {},
   "outputs": [],
   "source": [
    "import findspark\n",
    "findspark.init()\n",
    "import pyspark as ps\n",
    "import warnings\n",
    "from pyspark.sql import SQLContext"
   ]
  },
  {
   "cell_type": "markdown",
   "id": "5b67d289",
   "metadata": {},
   "source": [
    "## 3. Create spark context "
   ]
  },
  {
   "cell_type": "code",
   "execution_count": 14,
   "id": "bbdb42cf",
   "metadata": {},
   "outputs": [
    {
     "name": "stderr",
     "output_type": "stream",
     "text": [
      "<ipython-input-14-f2abe5fb9b1c>:7: UserWarning: SparkContext already exists in this scope\n",
      "  warnings.warn(\"SparkContext already exists in this scope\")\n"
     ]
    }
   ],
   "source": [
    "try:\n",
    "    # create SparkContext on all CPUs available: in my case I have 4 CPUs on my laptop\n",
    "    sc = ps.SparkContext('local[1]')\n",
    "    sqlContext = SQLContext(sc)\n",
    "    print(\"Just created a SparkContext\")\n",
    "except ValueError:\n",
    "    warnings.warn(\"SparkContext already exists in this scope\")"
   ]
  },
  {
   "cell_type": "markdown",
   "id": "31f803d6",
   "metadata": {},
   "source": [
    "## 4. Load the accuracy_ready_data.csv "
   ]
  },
  {
   "cell_type": "code",
   "execution_count": 22,
   "id": "37a3fded",
   "metadata": {},
   "outputs": [
    {
     "data": {
      "text/plain": [
       "pyspark.sql.dataframe.DataFrame"
      ]
     },
     "execution_count": 22,
     "metadata": {},
     "output_type": "execute_result"
    }
   ],
   "source": [
    "df = sqlContext.read.format('com.databricks.spark.csv').options(header='true', inferschema='true').load('accuracy_ready_data.csv')\n",
    "type(df)"
   ]
  },
  {
   "cell_type": "code",
   "execution_count": 23,
   "id": "c6a90606",
   "metadata": {},
   "outputs": [
    {
     "name": "stdout",
     "output_type": "stream",
     "text": [
      "+--------------------+---------------------+----------------+-------------------+\n",
      "|          News_title|Sentiment(MaxEntropy)|Sentiment(VADER)|Sentiment(SparkNLP)|\n",
      "+--------------------+---------------------+----------------+-------------------+\n",
      "|MSMEs call for mo...|                    2|               2|                  0|\n",
      "|Rethinking touris...|                    2|               2|                  1|\n",
      "|Why Are We Spendi...|                    2|               2|                  0|\n",
      "|Why Are We Spendi...|                    2|               2|                  0|\n",
      "|Issue of film ind...|                    2|               2|                  1|\n",
      "+--------------------+---------------------+----------------+-------------------+\n",
      "only showing top 5 rows\n",
      "\n"
     ]
    }
   ],
   "source": [
    "df.show(5)"
   ]
  },
  {
   "cell_type": "markdown",
   "id": "428f03d2",
   "metadata": {},
   "source": [
    "## 5. Split the data into 80% train, 10% test and 10% validation"
   ]
  },
  {
   "cell_type": "code",
   "execution_count": 24,
   "id": "40db66ae",
   "metadata": {},
   "outputs": [],
   "source": [
    "(train_set, val_set, test_set) = df.randomSplit([0.80, 0.10, 0.10], seed = 200)"
   ]
  },
  {
   "cell_type": "markdown",
   "id": "db52c218",
   "metadata": {},
   "source": [
    "## 6. Implementing pipeline and logistic regression for accuracy"
   ]
  },
  {
   "cell_type": "markdown",
   "id": "83e6ced9",
   "metadata": {},
   "source": [
    "### 1) VADER"
   ]
  },
  {
   "cell_type": "code",
   "execution_count": 25,
   "id": "fb0f9503",
   "metadata": {},
   "outputs": [],
   "source": [
    "from pyspark.ml.feature import HashingTF, IDF, Tokenizer\n",
    "from pyspark.ml.feature import StringIndexer\n",
    "from pyspark.ml import Pipeline\n",
    "\n",
    "#tokenizer each word in the text\n",
    "tokenizer = Tokenizer(inputCol=\"News_title\", outputCol=\"words\")\n",
    "hashtf = HashingTF(numFeatures=2**16, inputCol=\"words\", outputCol='tf')\n",
    "idf = IDF(inputCol='tf', outputCol=\"features\", minDocFreq=5) #minDocFreq: remove sparse terms\n",
    "\n",
    "#select target sentiment as label data for classification\n",
    "label_stringIdx = StringIndexer(inputCol = \"Sentiment(VADER)\", outputCol = \"label\")\n",
    "pipeline = Pipeline(stages=[tokenizer, hashtf, idf, label_stringIdx])\n",
    "\n",
    "pipelineFit = pipeline.fit(train_set)# fitting the training data on pipeline\n",
    "train_df = pipelineFit.transform(train_set)\n",
    "val_df = pipelineFit.transform(val_set)\n"
   ]
  },
  {
   "cell_type": "code",
   "execution_count": 26,
   "id": "9c4ed694",
   "metadata": {},
   "outputs": [
    {
     "data": {
      "text/plain": [
       "0.7802893366972183"
      ]
     },
     "execution_count": 26,
     "metadata": {},
     "output_type": "execute_result"
    }
   ],
   "source": [
    "#Applying Logistic Regression\n",
    "from pyspark.ml.classification import LogisticRegression\n",
    "lr = LogisticRegression(maxIter=100)\n",
    "lrModel = lr.fit(train_df)\n",
    "predictions = lrModel.transform(val_df)\n",
    "from pyspark.ml.evaluation import MulticlassClassificationEvaluator \n",
    "evaluator = MulticlassClassificationEvaluator()\n",
    "evaluator.evaluate(predictions)\n"
   ]
  },
  {
   "cell_type": "markdown",
   "id": "9a23965f",
   "metadata": {},
   "source": [
    "### 2) MaxEntropy"
   ]
  },
  {
   "cell_type": "code",
   "execution_count": 27,
   "id": "2193984b",
   "metadata": {},
   "outputs": [],
   "source": [
    "tokenizer = Tokenizer(inputCol=\"News_title\", outputCol=\"words\")\n",
    "hashtf = HashingTF(numFeatures=2**16, inputCol=\"words\", outputCol='tf')\n",
    "idf = IDF(inputCol='tf', outputCol=\"features\", minDocFreq=5) #minDocFreq: remove sparse terms\n",
    "\n",
    "#select target sentiment as label data for classification\n",
    "label_stringIdx = StringIndexer(inputCol = \"Sentiment(MaxEntropy)\", outputCol = \"label\")\n",
    "pipeline = Pipeline(stages=[tokenizer, hashtf, idf, label_stringIdx])\n",
    "\n",
    "pipelineFit = pipeline.fit(train_set)# fitting the training data on pipeline\n",
    "train_df = pipelineFit.transform(train_set)\n",
    "val_df = pipelineFit.transform(val_set)\n"
   ]
  },
  {
   "cell_type": "code",
   "execution_count": 28,
   "id": "863a1640",
   "metadata": {},
   "outputs": [
    {
     "data": {
      "text/plain": [
       "0.7056808449900085"
      ]
     },
     "execution_count": 28,
     "metadata": {},
     "output_type": "execute_result"
    }
   ],
   "source": [
    "#Applying Logistic Regression\n",
    "lr = LogisticRegression(maxIter=100)\n",
    "lrModel = lr.fit(train_df)\n",
    "predictions = lrModel.transform(val_df)\n",
    "from pyspark.ml.evaluation import MulticlassClassificationEvaluator \n",
    "evaluator = MulticlassClassificationEvaluator()\n",
    "evaluator.evaluate(predictions)\n"
   ]
  },
  {
   "cell_type": "markdown",
   "id": "8168af58",
   "metadata": {},
   "source": [
    "### 3) Spark NLP"
   ]
  },
  {
   "cell_type": "code",
   "execution_count": 29,
   "id": "d8caa699",
   "metadata": {},
   "outputs": [],
   "source": [
    "tokenizer = Tokenizer(inputCol=\"News_title\", outputCol=\"words\")\n",
    "hashtf = HashingTF(numFeatures=2**16, inputCol=\"words\", outputCol='tf')\n",
    "idf = IDF(inputCol='tf', outputCol=\"features\", minDocFreq=5) #minDocFreq: remove sparse terms\n",
    "\n",
    "#select target sentiment as label data for classification\n",
    "label_stringIdx = StringIndexer(inputCol = \"Sentiment(SparkNLP)\", outputCol = \"label\")\n",
    "pipeline = Pipeline(stages=[tokenizer, hashtf, idf, label_stringIdx])\n",
    "\n",
    "pipelineFit = pipeline.fit(train_set)# fitting the training data on pipeline\n",
    "train_df = pipelineFit.transform(train_set)\n",
    "val_df = pipelineFit.transform(val_set)\n"
   ]
  },
  {
   "cell_type": "code",
   "execution_count": 30,
   "id": "ffe09fe2",
   "metadata": {},
   "outputs": [
    {
     "data": {
      "text/plain": [
       "0.8434440490864795"
      ]
     },
     "execution_count": 30,
     "metadata": {},
     "output_type": "execute_result"
    }
   ],
   "source": [
    "#Applying Logistic Regression\n",
    "lr = LogisticRegression(maxIter=100)\n",
    "lrModel = lr.fit(train_df)\n",
    "predictions = lrModel.transform(val_df)\n",
    "from pyspark.ml.evaluation import MulticlassClassificationEvaluator \n",
    "evaluator = MulticlassClassificationEvaluator()\n",
    "evaluator.evaluate(predictions)\n"
   ]
  }
 ],
 "metadata": {
  "kernelspec": {
   "display_name": "Python 3",
   "language": "python",
   "name": "python3"
  },
  "language_info": {
   "codemirror_mode": {
    "name": "ipython",
    "version": 3
   },
   "file_extension": ".py",
   "mimetype": "text/x-python",
   "name": "python",
   "nbconvert_exporter": "python",
   "pygments_lexer": "ipython3",
   "version": "3.8.8"
  }
 },
 "nbformat": 4,
 "nbformat_minor": 5
}
